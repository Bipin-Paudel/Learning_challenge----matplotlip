


from matplotlib import pyplot as plt




plt.style.use('fivethirtyeight')


slices= [60,30,10]
plt.pie(slices)

plt.title('My awesome Chart')
plt.tight_layout()
plt.show()


slices= [60,30,10]


plt.title('My awesome Chart')

labels= ['sixty','thirty','fourty']
plt.pie(slices, labels=labels)

plt.tight_layout()
plt.show()


slices= [60,30,10]


plt.title('My awesome Chart')

labels= ['sixty','thirty','fourty']

plt.pie(slices, labels=labels, wedgeprops={'edgecolor':'black'})

plt.tight_layout()
plt.show()


plt.title('My awesome Chart')

slices= [20,30,10,45,5]
labels= ['twenty','thirty','ten','fourtyfive','five']
colors = ['blue', 'green', 'yellow','purple','pink']

plt.pie(slices, labels=labels,colors=colors,  wedgeprops={'edgecolor':'black'})

plt.tight_layout()
plt.show()


# Language Popularity
slices = [59219, 55466, 47544, 36443, 35917, 31991, 27097, 23030, 20524, 18523, 18017, 7920, 7331, 7201, 5833]
labels = ['JavaScript', 'HTML/CSS', 'SQL', 'Python', 'Java', 'Bash/Shell/PowerShell', 'C#', 'PHP', 'C++', 'TypeScript', 'C', 'Other(s):', 'Ruby', 'Go', 'Assembly']


plt.pie(slices, labels=labels, wedgeprops={'edgecolor':'black'})

plt.tight_layout()
plt.show()



slices = [59219, 55466, 47544, 36443, 35917]
labels = ['JavaScript', 'HTML/CSS', 'SQL', 'Python', 'Java']


plt.pie(slices, labels=labels, wedgeprops={'edgecolor':'black'})

plt.tight_layout()
plt.show()


slices = [59219, 55466, 47544, 36443, 35917]
labels = ['JavaScript', 'HTML/CSS', 'SQL', 'Python', 'Java']


explode= [0,0,0,0.1,0]

plt.pie(slices, labels=labels,explode=explode, wedgeprops={'edgecolor':'black'})

plt.tight_layout()
plt.show()


plt.pie(slices, labels=labels,explode=explode,shadow=True, wedgeprops={'edgecolor':'black'})

plt.tight_layout()
plt.show()


plt.pie(slices, labels=labels,explode=explode,shadow=True,startangle=90, wedgeprops={'edgecolor':'black'})

plt.tight_layout()
plt.show()


plt.pie(slices, labels=labels,explode=explode,shadow=True,autopct='%1.1f%%', wedgeprops={'edgecolor':'black'})

plt.tight_layout()
plt.show()



