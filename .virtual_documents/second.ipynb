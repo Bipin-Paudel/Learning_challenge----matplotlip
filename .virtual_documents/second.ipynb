import numpy as np
from matplotlib import pyplot as plt




ages_x = [18, 19, 20, 21, 22, 23, 24, 25, 26, 27, 28, 29, 30, 31, 32, 33, 34, 35,
          36, 37, 38, 39, 40, 41, 42, 43, 44, 45, 46, 47, 48, 49, 50, 51, 52, 53, 54, 55]

py_dev_y = [20046, 17100, 20000, 24744, 30500, 37732, 41247, 45372, 48876, 53850, 57287, 63016, 65998, 70003, 70000, 71496, 75370, 83640, 84666,
            84392, 78254, 85000, 87038, 91991, 100000, 94796, 97962, 93302, 99240, 102736, 112285, 100771, 104708, 108423, 101407, 112542, 122870, 120000]

js_dev_y = [16446, 16791, 18942, 21780, 25704, 29000, 34372, 37810, 43515, 46823, 49293, 53437, 56373, 62375, 66674, 68745, 68746, 74583, 79000,
            78508, 79996, 80403, 83820, 88833, 91660, 87892, 96243, 90000, 99313, 91660, 102264, 100000, 100000, 91660, 99240, 108000, 105000, 104000]

dev_y = [17784, 16500, 18012, 20628, 25206, 30252, 34368, 38496, 42000, 46752, 49320, 53200, 56000, 62316, 64928, 67317, 68748, 73752, 77232,
         78000, 78508, 79536, 82488, 88935, 90000, 90056, 95000, 90000, 91633, 91660, 98150, 98964, 100000, 98988, 100000, 108923, 105000, 103117]

plt.style.use('ggplot')

plt.xlabel(" Median salary (USD) By age")
plt.ylabel("Ages")
plt.title(" Median salary (USD) By age")



plt.bar(ages_x, py_dev_y,   label = 'Python Devs' )   
plt.bar(ages_x, js_dev_y,  label = 'Javascript Devs' )   

plt.bar(ages_x, dev_y, label='All Devs', )
plt.legend()
plt.tight_layout()



ages_x = [18, 19, 20, 21, 22, 23, 24, 25, 26, 27, 28, 29, 30, 31, 32, 33, 34, 35,
          36, 37, 38, 39, 40, 41, 42, 43, 44, 45, 46, 47, 48, 49, 50, 51, 52, 53, 54, 55]

py_dev_y = [20046, 17100, 20000, 24744, 30500, 37732, 41247, 45372, 48876, 53850, 57287, 63016, 65998, 70003, 70000, 71496, 75370, 83640, 84666,
            84392, 78254, 85000, 87038, 91991, 100000, 94796, 97962, 93302, 99240, 102736, 112285, 100771, 104708, 108423, 101407, 112542, 122870, 120000]

js_dev_y = [16446, 16791, 18942, 21780, 25704, 29000, 34372, 37810, 43515, 46823, 49293, 53437, 56373, 62375, 66674, 68745, 68746, 74583, 79000,
            78508, 79996, 80403, 83820, 88833, 91660, 87892, 96243, 90000, 99313, 91660, 102264, 100000, 100000, 91660, 99240, 108000, 105000, 104000]

dev_y = [17784, 16500, 18012, 20628, 25206, 30252, 34368, 38496, 42000, 46752, 49320, 53200, 56000, 62316, 64928, 67317, 68748, 73752, 77232,
         78000, 78508, 79536, 82488, 88935, 90000, 90056, 95000, 90000, 91633, 91660, 98150, 98964, 100000, 98988, 100000, 108923, 105000, 103117]


x_indexes = np.arange(len(ages_x))

width = 0.25

plt.style.use('ggplot')

plt.xlabel(" Median salary (USD) By age")
plt.ylabel("Ages")
plt.title(" Median salary (USD) By age")



plt.bar(x_indexes-width, py_dev_y, width = width,  label = 'Python Devs' )   
plt.bar(x_indexes, js_dev_y, width = width, label = 'Javascript Devs')   

plt.bar(x_indexes + width, dev_y, width= width,  label='All Devs')
plt.legend()
plt.tight_layout()




x_indexes = np.arange(len(ages_x))

width = 0.25
plt.xticks(ticks=x_indexes, label = ages_x)
plt.style.use('fivethirtyeight')

plt.xlabel(" Median salary (USD) By age")
plt.ylabel("Ages")
plt.title(" Median salary (USD) By age")



plt.bar(x_indexes-width, py_dev_y, width = width,  label = 'Python Devs' )   
plt.bar(x_indexes, js_dev_y, width = width, label = 'Javascript Devs')   

plt.bar(x_indexes + width, dev_y, width= width,  label='All Devs')
plt.legend()
plt.tight_layout()






plt.style.use('fivethirtyeight')


import csv


with open('data.csv') as csv_file:
    csv_reader = csv.DictReader(csv_file)

    row = next(csv_reader)
    print(row)




with open('data.csv') as csv_file:
    csv_reader = csv.DictReader(csv_file)

    row = next(csv_reader)
    print(row['LanguagesWorkedWith'])


from collections import Counter

with open('data.csv') as csv_file:
    csv_reader = csv.DictReader(csv_file)

    language_counter = Counter()
    for row in csv_reader:
     language_counter.update(row['LanguagesWorkedWith'].split(';'))

languages =[]
popularity = []

for item in language_counter.most_common(15):
    languages.append(item[0])
    popularity.append(item[1])
print(language_counter)


plt.bar(languages, popularity)
plt.title('Most popular languages')
plt.xlabel('programming languages')
plt.ylabel('Number of people who use')
plt.tight_layout()
plt.show()


plt.barh(languages, popularity)
plt.title('Most popular languages')
plt.ylabel('programming languages')
plt.xlabel('Number of people who use')
plt.tight_layout()
plt.show()



languages.reverse()
popularity.reverse()

plt.barh(languages, popularity)
plt.title('Most popular languages')
plt.ylabel('programming languages')
plt.xlabel('Number of people who use')
plt.tight_layout()
plt.show()


import pandas as pd



data = pd.read_csv('data.csv')

language_counter = Counter()

for response in data['LanguagesWorkedWith']:
    language_counter.update(response.split(';'))

languages = []
popularity = []

for item in language_counter.most_common(15):
    languages.append(item[0])
    popularity.append(item[1])

languages.reverse()
popularity.reverse()

plt.barh(languages, popularity)
plt.title('Most Popular Languages')
plt.xlabel('Number of People Who Use')
plt.ylabel('Programming Languages')
plt.tight_layout()
plt.show()







