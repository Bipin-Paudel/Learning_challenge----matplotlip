from matplotlib import pyplot as plt
import pandas as pd




plt.style.use('fivethirtyeight')

ages = [18, 19, 21, 25, 26, 26, 30, 32, 38, 45, 55]

# data = pd.read_csv('data.csv')
# ids = data['Responder_id']
# ages = data['Age']

# median_age = 29
# color = '#fc4f30'

# plt.legend()
plt.hist(ages, bins=5, edgecolor='black')
plt.title('Ages of Respondents')
plt.xlabel('Ages')
plt.ylabel('Total Respondents')

plt.tight_layout()

plt.show()


plt.style.use('fivethirtyeight')

ages = [18, 19, 21, 25, 26, 26, 30, 32, 38, 45, 55]

# data = pd.read_csv('data.csv')
# ids = data['Responder_id']
# ages = data['Age']

# median_age = 29
# color = '#fc4f30'

# plt.legend()
bins= [10,20,30,40,50,60]
plt.hist(ages, bins=bins, edgecolor='black')
plt.title('Ages of Respondents')
plt.xlabel('Ages')
plt.ylabel('Total Respondents')

plt.tight_layout()

plt.show()


plt.style.use('fivethirtyeight')

ages = [18, 19, 21, 25, 26, 26, 30, 32, 38, 45, 55]

# data = pd.read_csv('data.csv')
# ids = data['Responder_id']
# ages = data['Age']

# median_age = 29
# color = '#fc4f30'

# plt.legend()
bins= [20,30,40,50,60]
plt.hist(ages, bins=bins, edgecolor='black')
plt.title('Ages of Respondents')
plt.xlabel('Ages')
plt.ylabel('Total Respondents')

plt.tight_layout()

plt.show()


plt.style.use('fivethirtyeight')

ages = [18, 19, 21, 25, 26, 26, 30, 32, 38, 45, 55]

data = pd.read_csv('data2.csv')
ids = data['Responder_id']
ages = data['Age']

# median_age = 29
# color = '#fc4f30'

# plt.legend()
bins= [10,20,30,40,50,60,70,80,90,100]
plt.hist(ages, bins=bins, edgecolor='black')
plt.title('Ages of Respondents')
plt.xlabel('Ages')
plt.ylabel('Total Respondents')

plt.tight_layout()

plt.show()


plt.style.use('fivethirtyeight')

ages = [18, 19, 21, 25, 26, 26, 30, 32, 38, 45, 55]

data = pd.read_csv('data2.csv')
ids = data['Responder_id']
ages = data['Age']

median_age = 29
color = '#fc4f30'


plt.axvline(median_age, color=color, label='median age')
plt.legend()

bins= [10,20,30,40,50,60,70,80,90,100]
plt.hist(ages, bins=bins, edgecolor='black', log=True)
plt.title('Ages of Respondents')
plt.xlabel('Ages')
plt.ylabel('Total Respondents')

plt.tight_layout()

plt.show()


plt.axvline(median_age, color=color, label='median age',linewidth =2)
plt.legend()

bins= [10,20,30,40,50,60,70,80,90,100]
plt.hist(ages, bins=bins, edgecolor='black', log=True)
plt.title('Ages of Respondents')
plt.xlabel('Ages')
plt.ylabel('Total Respondents')

plt.tight_layout()

plt.show()



