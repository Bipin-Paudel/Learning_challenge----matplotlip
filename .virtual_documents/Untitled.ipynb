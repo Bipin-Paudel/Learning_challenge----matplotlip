import random
from itertools import count
import pandas as pd
import matplotlib.pyplot as plt




plt.style.use('fivethirtyeight')

x_vals = [0, 1, 2, 3, 4, 5]
y_vals = [0, 1, 3, 2, 3, 5]

plt.plot(x_vals, y_vals)


# index = count()

# def animate(i):
#     x_vals.append(next(index))
#     y_vals.append(random.randint(0, 5))


plt.tight_layout()
plt.show()


# data = pd.read_csv('data.csv')
# x = data['x_value']
# y1 = data['total_1']
# y2 = data['total_2']


from matplotlib.animation import FuncAnimation

x_vals = []
y_vals = []




index = count()

def animate(i):
    x_vals.append(next(index))
    y_vals.append(random.randint(0, 5))

anim = FuncAnimation(plt.gcf(), animate, interval=1000, cache_frame_data=False)
plt.cla()
plt.plot(x_vals, y_vals)

plt.tight_layout()
plt.show()





import pandas as pd
import matplotlib.pyplot as plt
from matplotlib.animation import FuncAnimation

fig, ax = plt.subplots()

def animate(i):
    try:
        data = pd.read_csv('data6.csv')
        print(f"Frame {i} | Rows: {len(data)}")

        x = data['x_value']
        y1 = data['total_1']
        y2 = data['total_2']

        ax.clear()

        ax.plot(x, y1, label='Channel 1')
        ax.plot(x, y2, label='Channel 2')

        ax.legend(loc='upper left')
        ax.set_title('Live Plot from CSV')
        ax.set_xlabel('X')
        ax.set_ylabel('Y')

    except Exception as e:
        print(f"Error at frame {i}: {e}")

ani = FuncAnimation(fig, animate, interval=1000, cache_frame_data=False)

plt.tight_layout()
plt.show()



import matplotlib.pyplot as plt
import matplotlib.animation as animation
import random

# Data storage
x_data = []
y_data = []

# Create figure
fig, ax = plt.subplots()
line, = ax.plot([], [], lw=2)

def init():
    ax.set_xlim(0, 100)   # initial x-axis range
    ax.set_ylim(0, 10)    # initial y-axis range
    return line,

def update(frame):
    x_data.append(frame)
    y_data.append(random.uniform(0, 10))  # simulate new data

    # Only keep latest 100 points
    x_data_trimmed = x_data[-100:]
    y_data_trimmed = y_data[-100:]

    line.set_data(x_data_trimmed, y_data_trimmed)
    ax.set_xlim(max(0, frame-100), frame)

    return line,

ani = animation.FuncAnimation(fig, update, init_func=init, interval=100, cache_frame_data=False)
plt.show()




import random
from itertools import count
import pandas as pd
import matplotlib.pyplot as plt
from matplotlib.animation import FuncAnimation

plt.style.use('fivethirtyeight')

x_vals = []
y_vals = []

index = count()


def animate(i):
    data = pd.read_csv('data6.csv')
    x = data['x_value']
    y1 = data['total_1']
    y2 = data['total_2']

    plt.cla()

    plt.plot(x, y1, label='Channel 1')
    plt.plot(x, y2, label='Channel 2')

    plt.legend(loc='upper left')
    plt.tight_layout()


ani = FuncAnimation(plt.gcf(), animate, interval=1000,cache_frame_data=False)

plt.tight_layout()
plt.show()



