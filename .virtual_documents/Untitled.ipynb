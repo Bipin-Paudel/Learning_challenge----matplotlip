


from matplotlib import pyplot as plt




plt.style.use('fivethirtyeight')


slices= [60,30,10]
plt.pie(slices)

plt.title('My awesome Chart')
plt.tight_layout()
plt.show()


slices= [60,30,10]


plt.title('My awesome Chart')

labels= ['sixty','thirty','fourty']
plt.pie(slices, labels=labels)

plt.tight_layout()
plt.show()


slices= [60,30,10]


plt.title('My awesome Chart')

labels= ['sixty','thirty','fourty']

plt.pie(slices, labels=labels, wedgeprops={'edgecolor':'black'})

plt.tight_layout()
plt.show()


plt.title('My awesome Chart')

labels= ['twenty','thirty','ten','fourtyfive','five']
colors = ['blue', 'green', 'yellow','purple','pink']

plt.pie(slices, labels=labels,color=colors,  wedgeprops={'edgecolor':'black'})

plt.tight_layout()
plt.show()



